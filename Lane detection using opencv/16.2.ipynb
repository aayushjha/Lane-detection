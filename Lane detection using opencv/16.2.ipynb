{
 "cells": [
  {
   "cell_type": "code",
   "execution_count": 1,
   "metadata": {},
   "outputs": [],
   "source": [
    "import cv2 as cv\n",
    "import numpy as np\n",
    "import matplotlib.pyplot as plt\n"
   ]
  },
  {
   "cell_type": "code",
   "execution_count": null,
   "metadata": {},
   "outputs": [],
   "source": [
    "cam=cv.VideoCapture(\"solidWhiteRight.mp4\")\n",
    "while True:\n",
    "    s,frame=cam.read()\n",
    "    try:\n",
    "        test2=cv.cvtColor(test1,cv.COLOR_BGR2GRAY)\n",
    "        test_b=cv.GaussianBlur(test2,(5,5),0)\n",
    "        test_c=cv.Canny(test_b,120,225)\n",
    "        mask=np.zeros_like(test_c)\n",
    "        p=np.array([(150,540),(400,330),(600,330),(900,540)])\n",
    "        reg=cv.fillPoly(mask,[p],255)\n",
    "        reg_b=cv.bitwise_and(test_c,reg)\n",
    "        lines=cv.HoughLinesP(\n",
    "            reg_b,\n",
    "            rho=6,\n",
    "            theta=np.pi / 1800,\n",
    "            threshold=20,\n",
    "            minLineLength=10,\n",
    "            lines=np.array([]),\n",
    "            maxLineGap=5\n",
    "        )\n",
    "        for line in lines.reshape(-1,4):\n",
    "            x1,y1,x2,y2=line\n",
    "            cv.line(frame,(x1,y1),(x2,y2),(0,255,255),10)\n",
    "        cv.imshow(\"1\",frame)\n",
    "    except:\n",
    "        pass\n",
    "    key=cv.waitKey(1)\n",
    "    if key==ord(\"q\"):\n",
    "        cv.destroyAllWindows()\n",
    "        break\n",
    "cam.release()"
   ]
  },
  {
   "cell_type": "code",
   "execution_count": null,
   "metadata": {},
   "outputs": [],
   "source": []
  }
 ],
 "metadata": {
  "kernelspec": {
   "display_name": "Python 3",
   "language": "python",
   "name": "python3"
  },
  "language_info": {
   "codemirror_mode": {
    "name": "ipython",
    "version": 3
   },
   "file_extension": ".py",
   "mimetype": "text/x-python",
   "name": "python",
   "nbconvert_exporter": "python",
   "pygments_lexer": "ipython3",
   "version": "3.7.3"
  }
 },
 "nbformat": 4,
 "nbformat_minor": 2
}
